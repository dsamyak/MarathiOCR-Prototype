{
 "cells": [
  {
   "cell_type": "markdown",
   "id": "07390ee8",
   "metadata": {},
   "source": [
    "# MarathiOCR-Prototype\n",
    "Run this notebook in Google Colab. It copies the project files and trains using the data/ folders. Replace the synthetic data with real Devanagari dataset if available."
   ]
  },
  {
   "cell_type": "code",
   "execution_count": null,
   "id": "0aa9d037",
   "metadata": {},
   "outputs": [],
   "source": [
    "# Copy files to Colab workspace (if using Colab)\n",
    "from pathlib import Path\n",
    "import shutil, os\n",
    "if not Path('/content/MarathiOCR-Prototype').exists():\n",
    "    shutil.copytree('/mnt/data/MarathiOCR-Prototype', '/content/MarathiOCR-Prototype')\n",
    "print('Files copied to /content/MarathiOCR-Prototype')\n",
    "!ls -R /content/MarathiOCR-Prototype | sed -n '1,200p'"
   ]
  },
  {
   "cell_type": "markdown",
   "id": "345dbbf6",
   "metadata": {},
   "source": [
    "## Train\n",
    "Run the training script (this requires TensorFlow present in Colab)."
   ]
  },
  {
   "cell_type": "code",
   "execution_count": null,
   "id": "3e870fb7",
   "metadata": {},
   "outputs": [],
   "source": [
    "!python /content/MarathiOCR-Prototype/src/train.py"
   ]
  },
  {
   "cell_type": "markdown",
   "id": "49b55160",
   "metadata": {},
   "source": [
    "## Inference\n",
    "Run a quick prediction (after training and model saved)."
   ]
  },
  {
   "cell_type": "code",
   "execution_count": null,
   "id": "ffc6d7d7",
   "metadata": {},
   "outputs": [],
   "source": [
    "!python -c \"from src.predict import predict; print('Prediction:', predict('/content/MarathiOCR-Prototype/uploads/test_sample.png'))\""
   ]
  }
 ],
 "metadata": {},
 "nbformat": 4,
 "nbformat_minor": 5
}
